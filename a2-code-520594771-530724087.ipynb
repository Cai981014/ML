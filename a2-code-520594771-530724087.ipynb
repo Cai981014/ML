{
 "cells": [
  {
   "cell_type": "markdown",
   "id": "0cdfc308",
   "metadata": {
    "id": "0cdfc308"
   },
   "source": [
    "# COMP4318/COMP5318 Assignment 2\n",
    "\n",
    "In this template, we have provided data loading code and section headings to help structure your notebook. Please refer to the assignment specification pdf to guide the content of your notebook and report.\n",
    "\n",
    "\n",
    "(Add SIDs here)\n",
    "\n",
    "520594771\n",
    "\n",
    "530724087"
   ]
  },
  {
   "cell_type": "code",
   "execution_count": null,
   "id": "ZjilYDyJuqd3",
   "metadata": {
    "colab": {
     "base_uri": "https://localhost:8080/"
    },
    "id": "ZjilYDyJuqd3",
    "outputId": "61c99c78-f59d-47cb-fb0f-fc76a1a84bd9"
   },
   "outputs": [],
   "source": [
    "from google.colab import drive\n",
    "drive.mount('/content/drive')"
   ]
  },
  {
   "cell_type": "markdown",
   "id": "47044b53",
   "metadata": {
    "id": "47044b53"
   },
   "source": [
    "# Setup"
   ]
  },
  {
   "cell_type": "code",
   "execution_count": null,
   "id": "62cf8f16",
   "metadata": {
    "colab": {
     "base_uri": "https://localhost:8080/"
    },
    "id": "62cf8f16",
    "outputId": "5ba38198-b5b5-4971-8b07-bc23b7295b61"
   },
   "outputs": [],
   "source": [
    "# Please include your imports in this cell\n",
    "import numpy as np\n",
    "import pandas as pd\n",
    "\n",
    "!pip install scikeras\n",
    "\n",
    "import tensorflow as tf\n",
    "from tensorflow import keras\n",
    "from sklearn.decomposition import PCA\n",
    "from sklearn.model_selection import StratifiedKFold, GridSearchCV\n",
    "from sklearn.ensemble import RandomForestClassifier # Random Forests\n",
    "from scikeras.wrappers import KerasClassifier\n",
    "import matplotlib.pyplot as plt\n",
    "from sklearn.svm import SVC # Linear SVM"
   ]
  },
  {
   "cell_type": "markdown",
   "id": "ea02a893",
   "metadata": {
    "id": "ea02a893"
   },
   "source": [
    "# Data loading, exploration, and preprocessing"
   ]
  },
  {
   "cell_type": "markdown",
   "id": "05ea8346",
   "metadata": {
    "id": "05ea8346"
   },
   "source": [
    "## Data loading"
   ]
  },
  {
   "cell_type": "code",
   "execution_count": null,
   "id": "6a69fea8",
   "metadata": {
    "id": "6a69fea8"
   },
   "outputs": [],
   "source": [
    "# Load data files assuming Assignment2Data folder\n",
    "# is present in the same directory as the notebook\n",
    "X_train = np.load('/content/drive/MyDrive/Assignment2Data/X_train.npy')\n",
    "y_train = np.load('/content/drive/MyDrive/Assignment2Data/y_train.npy')\n",
    "X_test = np.load('/content/drive/MyDrive/Assignment2Data/X_test.npy')\n",
    "y_test = np.load('/content/drive/MyDrive/Assignment2Data/y_test.npy')"
   ]
  },
  {
   "cell_type": "code",
   "execution_count": null,
   "id": "rFGHnDuDR3qb",
   "metadata": {
    "colab": {
     "base_uri": "https://localhost:8080/"
    },
    "id": "rFGHnDuDR3qb",
    "outputId": "8616bbd0-9e40-44e0-97b0-2d5fa9cc9803"
   },
   "outputs": [],
   "source": [
    "print(X_train.shape, X_test.shape, y_train.shape, y_test.shape)"
   ]
  },
  {
   "cell_type": "markdown",
   "id": "33b58d58",
   "metadata": {
    "id": "33b58d58"
   },
   "source": [
    "## Data exploration"
   ]
  },
  {
   "cell_type": "markdown",
   "id": "C0Ga2r8v1tNt",
   "metadata": {
    "id": "C0Ga2r8v1tNt"
   },
   "source": [
    "Class Imbalance"
   ]
  },
  {
   "cell_type": "code",
   "execution_count": null,
   "id": "eGi0ZZqwEnHs",
   "metadata": {
    "colab": {
     "base_uri": "https://localhost:8080/",
     "height": 598
    },
    "id": "eGi0ZZqwEnHs",
    "outputId": "78b1bcd0-08c6-4b78-f80c-db189e9a2692"
   },
   "outputs": [],
   "source": [
    "import seaborn as sns\n",
    "\n",
    "y_train = pd.DataFrame(y_train)\n",
    "label_map = {0: 'basophil', 1: 'eosinophil', 2: 'erythroblast', 3: 'immature granulocytes', 4: 'lymphocyte', 5: 'monocyte', 6: 'neutrophil', 7: 'platelet'}\n",
    "\n",
    "plt.figure(figsize=(8, 5))\n",
    "plt.title('Counts of data points per class')\n",
    "\n",
    "# 使用y_train绘制计数图\n",
    "sns.countplot(x=y_train.iloc[:, 0])\n",
    "\n",
    "# 使用标签映射更新x轴标签\n",
    "old_xaxis = list(label_map.keys())\n",
    "new_axis = list(label_map.values())\n",
    "plt.xticks(old_xaxis, new_axis, rotation=45)\n",
    "plt.xlabel('label')\n",
    "plt.show()"
   ]
  },
  {
   "cell_type": "markdown",
   "id": "ONIdPGFE1xu8",
   "metadata": {
    "id": "ONIdPGFE1xu8"
   },
   "source": [
    "t-SNE"
   ]
  },
  {
   "cell_type": "code",
   "execution_count": null,
   "id": "MaCmqZxjBKxU",
   "metadata": {
    "colab": {
     "base_uri": "https://localhost:8080/"
    },
    "id": "MaCmqZxjBKxU",
    "outputId": "4d938d26-e610-47d8-9e74-a894a6dc21f8"
   },
   "outputs": [],
   "source": [
    "from sklearn.manifold import TSNE\n",
    "import matplotlib.pyplot as plt\n",
    "\n",
    "# 将图像平铺为一维向量\n",
    "X_train_flattened = np.array([x.flatten() for x in X_train])\n",
    "\n",
    "# 使用 t-SNE 对降维后的数据进行降维到2维\n",
    "tsne = TSNE(n_components=2, perplexity=30.0, n_iter=1000, random_state = 0, verbose=1)\n",
    "X_train_tsne = tsne.fit_transform(X_train_flattened)\n"
   ]
  },
  {
   "cell_type": "code",
   "execution_count": null,
   "id": "VDfvkzOJKhpL",
   "metadata": {
    "colab": {
     "base_uri": "https://localhost:8080/",
     "height": 872
    },
    "id": "VDfvkzOJKhpL",
    "outputId": "3bc89841-c200-41f2-dfe4-0f6fabc80db1"
   },
   "outputs": [],
   "source": [
    "\n",
    "df_tsne = pd.DataFrame(columns=[\"x\", \"y\", \"label\"])\n",
    "df_tsne[\"x\"] = X_train_tsne[:, 0]\n",
    "df_tsne[\"y\"] = X_train_tsne[:, 1]\n",
    "df_tsne[\"label\"] = y_train\n",
    "\n",
    "plt.figure(figsize=(10, 10))\n",
    "sns.scatterplot(data=df_tsne, x=\"x\", y=\"y\", hue=\"label\", palette=sns.color_palette(\"husl\", 8))\n",
    "plt.title('t-SNE Visualization')\n",
    "plt.show()"
   ]
  },
  {
   "cell_type": "markdown",
   "id": "4bd7d087",
   "metadata": {
    "id": "4bd7d087"
   },
   "source": [
    "## Preprocessing"
   ]
  },
  {
   "cell_type": "code",
   "execution_count": null,
   "id": "mJRxr7iazEss",
   "metadata": {
    "colab": {
     "base_uri": "https://localhost:8080/"
    },
    "id": "mJRxr7iazEss",
    "outputId": "f1286603-2a84-46ce-f621-ee6174ef8074"
   },
   "outputs": [],
   "source": [
    "# Normalisation: scale the data to the range 0-1\n",
    "max_value = np.max(X_train)\n",
    "print(max_value)\n",
    "\n",
    "X_train_norm = X_train / 255\n",
    "X_test_norm = X_test / 255"
   ]
  },
  {
   "cell_type": "code",
   "execution_count": null,
   "id": "WB2-mBeW65iM",
   "metadata": {
    "colab": {
     "base_uri": "https://localhost:8080/"
    },
    "id": "WB2-mBeW65iM",
    "outputId": "f89a302a-2e12-4c60-8f17-be4195f5d381"
   },
   "outputs": [],
   "source": [
    "X_train_norm.shape"
   ]
  },
  {
   "cell_type": "code",
   "execution_count": null,
   "id": "05U2P2xw4sjY",
   "metadata": {
    "id": "05U2P2xw4sjY"
   },
   "outputs": [],
   "source": [
    "# Input preprocessing for MLP - 3 dimension\n",
    "X_train_3d = np.sum(X_train_norm, axis = 3)\n",
    "X_test_3d = np.sum(X_test_norm, axis = 3)"
   ]
  },
  {
   "cell_type": "code",
   "execution_count": null,
   "id": "yl5QvKtbD0ac",
   "metadata": {
    "colab": {
     "base_uri": "https://localhost:8080/"
    },
    "id": "yl5QvKtbD0ac",
    "outputId": "20bf5f3c-47c9-4c4d-cd3c-282f317bffb9"
   },
   "outputs": [],
   "source": [
    "X_train_3d.shape"
   ]
  },
  {
   "cell_type": "code",
   "execution_count": null,
   "id": "WFUdup2s23dp",
   "metadata": {
    "id": "WFUdup2s23dp"
   },
   "outputs": [],
   "source": [
    "# Input preprocessing for CNN - 4 dimension\n",
    "\n",
    "X_train_4d = X_train_norm\n",
    "X_test_4d = X_test_norm"
   ]
  },
  {
   "cell_type": "code",
   "execution_count": null,
   "id": "zbW5VjBK-026",
   "metadata": {
    "colab": {
     "base_uri": "https://localhost:8080/"
    },
    "id": "zbW5VjBK-026",
    "outputId": "e34000e2-9189-4df7-f8a7-d43d2a207eb9"
   },
   "outputs": [],
   "source": [
    "X_train_4d.shape"
   ]
  },
  {
   "cell_type": "code",
   "execution_count": null,
   "id": "6McZZF4hEKEF",
   "metadata": {
    "id": "6McZZF4hEKEF"
   },
   "outputs": [],
   "source": [
    "# Input preprocessing for Random Forest and SVM - 2 dimension without PCA\n",
    "X_train_RF = X_train_norm.reshape(X_train_norm.shape[0], -1)\n",
    "X_test_RF = X_test_norm.reshape(X_test_norm.shape[0], -1)"
   ]
  },
  {
   "cell_type": "code",
   "execution_count": null,
   "id": "BraT89VZF5nt",
   "metadata": {
    "id": "BraT89VZF5nt"
   },
   "outputs": [],
   "source": [
    "X_train_RF.shape"
   ]
  },
  {
   "cell_type": "code",
   "execution_count": null,
   "id": "GxO95cxY26pQ",
   "metadata": {
    "id": "GxO95cxY26pQ"
   },
   "outputs": [],
   "source": [
    "# Input preprocessing for Random Forest and SVM - 2 dimension with PCA\n",
    "# Flatten: to conduct PCA to reduce data dimension\n",
    "X_train_flat = np.array([x.flatten() for x in X_train_norm])\n",
    "\n",
    "X_test_flat = np.array([x.flatten() for x in X_test_norm])\n",
    "\n",
    "pca_2d = PCA(n_components=2)\n",
    "\n",
    "X_train_2d = pca_2d.fit_transform(X_train_flat)\n",
    "X_test_2d = pca_2d.transform(X_test_flat)"
   ]
  },
  {
   "cell_type": "code",
   "execution_count": null,
   "id": "P1ipKLOT_Q8-",
   "metadata": {
    "colab": {
     "base_uri": "https://localhost:8080/"
    },
    "id": "P1ipKLOT_Q8-",
    "outputId": "5effc833-1201-4f7c-99f8-0a0675b57533"
   },
   "outputs": [],
   "source": [
    "X_train_2d.shape"
   ]
  },
  {
   "cell_type": "markdown",
   "id": "58c98dcb",
   "metadata": {
    "id": "58c98dcb"
   },
   "source": [
    "## Examples of preprocessed data\n",
    "Please print/display some examples of your preprocessed data here."
   ]
  },
  {
   "cell_type": "code",
   "execution_count": null,
   "id": "u4MpwZlJ5fb4",
   "metadata": {
    "colab": {
     "base_uri": "https://localhost:8080/"
    },
    "id": "u4MpwZlJ5fb4",
    "outputId": "caa67faf-8760-47f0-851d-d1c653ab086b"
   },
   "outputs": [],
   "source": [
    "print(X_train_4d.shape, X_train_3d.shape, X_train_2d.shape)"
   ]
  },
  {
   "cell_type": "code",
   "execution_count": null,
   "id": "UDTKRhi35urI",
   "metadata": {
    "colab": {
     "base_uri": "https://localhost:8080/"
    },
    "id": "UDTKRhi35urI",
    "outputId": "ab410439-833a-440a-a293-71e547749430"
   },
   "outputs": [],
   "source": [
    "print(X_test_4d.shape, X_test_3d.shape, X_test_2d.shape)"
   ]
  },
  {
   "cell_type": "markdown",
   "id": "639cebf7",
   "metadata": {
    "id": "639cebf7"
   },
   "source": [
    "# Algorithm design and setup"
   ]
  },
  {
   "cell_type": "markdown",
   "id": "51d5f7a1",
   "metadata": {
    "id": "51d5f7a1"
   },
   "source": [
    "## Model 1 - Fully Connected Neural Network"
   ]
  },
  {
   "cell_type": "code",
   "execution_count": null,
   "id": "JseC3sVsNhEu",
   "metadata": {
    "id": "JseC3sVsNhEu"
   },
   "outputs": [],
   "source": [
    "def build_mlp(\n",
    "    n_hidden_layers=2, n_hidden_neurons=50,\n",
    "    activation_function=\"relu\", input_shape=[28, 28]\n",
    "):\n",
    "\n",
    "    model = keras.models.Sequential()\n",
    "\n",
    "    # Add the input layer\n",
    "    model.add(keras.layers.Flatten(input_shape=input_shape))\n",
    "\n",
    "    # Add the hidden layers with desired size and activation function\n",
    "    for layer in range(n_hidden_layers):\n",
    "        model.add(keras.layers.Dense(n_hidden_neurons, activation=activation_function))\n",
    "\n",
    "    # Add the output layer for 8 class classification\n",
    "    model.add(keras.layers.Dense(8, activation=\"softmax\"))\n",
    "\n",
    "    return model"
   ]
  },
  {
   "cell_type": "markdown",
   "id": "a5b5c15b",
   "metadata": {
    "id": "a5b5c15b"
   },
   "source": [
    "## Model 2 - Convolutional Neural Network"
   ]
  },
  {
   "cell_type": "code",
   "execution_count": null,
   "id": "53c5cpTDNleA",
   "metadata": {
    "id": "53c5cpTDNleA"
   },
   "outputs": [],
   "source": [
    "def build_cnn(\n",
    "    n_hidden_layers=2, kernel_size=(3,3), strides=(1,1), activation_function=\"relu\", input_shape=(28,28,3)):\n",
    "\n",
    "    model = keras.Sequential()\n",
    "\n",
    "    model.add(keras.Input(shape=input_shape))\n",
    "\n",
    "    # Add the hidden layers with desired size and activation function\n",
    "    for layer in range(n_hidden_layers):\n",
    "      model.add(keras.layers.Conv2D(32*(layer+1),kernel_size= (3,3),strides = (1,1), activation = \"relu\"))\n",
    "      model.add(keras.layers.MaxPooling2D(pool_size=(2, 2)))\n",
    "      model.add(keras.layers.Dropout(0.5))\n",
    "    # Add the output layer for 10 class classification\n",
    "    model.add(keras.layers.Flatten(input_shape=input_shape))\n",
    "    model.add(keras.layers.Dense(10, activation=\"softmax\"))\n",
    "\n",
    "    return model"
   ]
  },
  {
   "cell_type": "markdown",
   "id": "f485c7c2",
   "metadata": {
    "id": "f485c7c2"
   },
   "source": [
    "## Model 3 - Algorithm Choice 1"
   ]
  },
  {
   "cell_type": "code",
   "execution_count": null,
   "id": "CH1oUm3SNoDv",
   "metadata": {
    "id": "CH1oUm3SNoDv"
   },
   "outputs": [],
   "source": [
    "## Random Forest\n",
    "cvKFold=StratifiedKFold(n_splits=10, shuffle=True, random_state=0)\n",
    "\n",
    "def bestRFClassifier(X, y, n_estimators, max_leaf_nodes):\n",
    "    param_grid = {'n_estimators': n_estimators,\n",
    "               'max_leaf_nodes': max_leaf_nodes}\n",
    "    rnd_clf = RandomForestClassifier(criterion='entropy', n_estimators=n_estimators, max_leaf_nodes=max_leaf_nodes, random_state=0)\n",
    "    grid_search = GridSearchCV(rnd_clf, param_grid, cv=cvKFold,\n",
    "                        return_train_score=True)\n",
    "    grid_search.fit(X, y)\n",
    "    return grid_search"
   ]
  },
  {
   "cell_type": "markdown",
   "id": "4533e00f",
   "metadata": {
    "id": "4533e00f"
   },
   "source": [
    "## Model 4 - Algorithm Choice 2"
   ]
  },
  {
   "cell_type": "code",
   "execution_count": null,
   "id": "SW132FXiAB4B",
   "metadata": {
    "id": "SW132FXiAB4B"
   },
   "outputs": [],
   "source": [
    "# Linear SVM\n",
    "cvKFold=StratifiedKFold(n_splits=10, shuffle=True, random_state=0)\n",
    "\n",
    "def bestLinClassifier(X,y):\n",
    "    param_grid = {'C': [0.01, 0.1, 1, 10, 100],\n",
    "              'gamma': [0.01, 0.1, 1, 10, 100]}\n",
    "    grid_search = GridSearchCV(SVC(kernel = 'linear'), param_grid, cv=cvKFold,\n",
    "                          return_train_score=True)\n",
    "    grid_search.fit(X, y)\n",
    "    return grid_search #(appropriate values so that the required printing can be done)"
   ]
  },
  {
   "cell_type": "markdown",
   "id": "91791de6",
   "metadata": {
    "id": "91791de6"
   },
   "source": [
    "# Hyperparameter tuning"
   ]
  },
  {
   "cell_type": "markdown",
   "id": "b326d402",
   "metadata": {
    "id": "b326d402"
   },
   "source": [
    "## Model 1 - Fully Connected Neural Network"
   ]
  },
  {
   "cell_type": "code",
   "execution_count": null,
   "id": "LUF5JE5E56Ua",
   "metadata": {
    "colab": {
     "base_uri": "https://localhost:8080/"
    },
    "id": "LUF5JE5E56Ua",
    "outputId": "4733fd7d-a508-4c0f-c8fa-b256a52be8c7"
   },
   "outputs": [],
   "source": [
    "cvKFold=StratifiedKFold(n_splits=10, shuffle=True, random_state=0)\n",
    "\n",
    "# Create a KerasClassifier object which works with sklearn grid searches\n",
    "# We need to pass default values of arguments in build_mlp if we wish to tune them\n",
    "keras_classifier_mlp = KerasClassifier(build_mlp,\n",
    "                                   n_hidden_layers=2,\n",
    "                                   n_hidden_neurons=50,\n",
    "                                   activation_function=\"relu\",\n",
    "                                   loss=\"sparse_categorical_crossentropy\",\n",
    "                                   optimizer=\"sgd\",\n",
    "                                   optimizer__learning_rate=0.01,\n",
    "                                   metrics=[\"accuracy\"]\n",
    "                                  )\n",
    "param_grid = {\n",
    "    \"n_hidden_neurons\": [32, 50],\n",
    "    \"optimizer__learning_rate\": [0.01, 0.001],\n",
    "    \"activation_function\": [\"relu\", \"sigmoid\"]\n",
    "}\n",
    "\n",
    "grid_search_mlp = GridSearchCV(keras_classifier_mlp, param_grid, cv=cvKFold, verbose=2)\n",
    "grid_search_mlp.fit(X_train_3d, y_train, epochs=20)"
   ]
  },
  {
   "cell_type": "code",
   "execution_count": null,
   "id": "rCM98qKarPUu",
   "metadata": {
    "colab": {
     "base_uri": "https://localhost:8080/"
    },
    "id": "rCM98qKarPUu",
    "outputId": "254a036c-7a9b-42d2-e422-99f2b36f882c"
   },
   "outputs": [],
   "source": [
    "# The best parameters results and cross-validation accuracy\n",
    "print(\"MLP best n_hidden_neurons: {}\".format(grid_search_mlp.best_params_['n_hidden_neurons']))\n",
    "print(\"MLP best optimizoptimizer__learning_rate: {}\".format(grid_search_mlp.best_params_['optimizer__learning_rate']))\n",
    "print(\"MLP best activation_function: {}\".format(grid_search_mlp.best_params_['activation_function']))\n",
    "print(\"MLP cross-validation accuracy: {:.4f}\".format(grid_search_mlp.best_score_))"
   ]
  },
  {
   "cell_type": "code",
   "execution_count": null,
   "id": "9pnpHg5LOFBN",
   "metadata": {
    "colab": {
     "base_uri": "https://localhost:8080/",
     "height": 927
    },
    "id": "9pnpHg5LOFBN",
    "outputId": "2bb2ee80-43c5-4c98-8797-40624447bdfb"
   },
   "outputs": [],
   "source": [
    "# Visualise the result of Hyperparameter tuning\n",
    "param_grid = {\n",
    "    \"n_hidden_neurons\": [32, 50],\n",
    "    \"optimizer__learning_rate\": [0.01, 0.001],\n",
    "    \"activation_function\": [\"relu\", \"sigmoid\"]\n",
    "}\n",
    "MLP_score = grid_search_mlp.cv_results_[\"mean_test_score\"].reshape(len(param_grid[\"n_hidden_neurons\"]), len(param_grid[\"optimizer__learning_rate\"]), -1)\n",
    "for i in range(len(param_grid[\"n_hidden_neurons\"])):\n",
    "  plt.subplot(1, len(param_grid[\"n_hidden_neurons\"]), i+1)\n",
    "  plt.title(\"n_hidden_neurons=\"+ str(param_grid[\"n_hidden_neurons\"][i]))\n",
    "  temp = MLP_score[i].T\n",
    "  for j in range(len(param_grid[\"activation_function\"])):\n",
    "    plt.plot(range(len(param_grid[\"optimizer__learning_rate\"])), temp[j], label = param_grid[\"activation_function\"][j])\n",
    "  plt.xlabel(\"optimizer__learning_rate\")\n",
    "  plt.ylabel(\"Accuracy\")\n",
    "  plt.xticks(range(len(param_grid[\"optimizer__learning_rate\"])),param_grid[\"optimizer__learning_rate\"])\n",
    "  plt.legend()\n",
    "  plt.grid(True)\n",
    "  plt.show()"
   ]
  },
  {
   "cell_type": "markdown",
   "id": "80654f41",
   "metadata": {
    "id": "80654f41"
   },
   "source": [
    "## Model 2 - Convolutional Neural Network"
   ]
  },
  {
   "cell_type": "code",
   "execution_count": null,
   "id": "D0KqJ2zKOBpm",
   "metadata": {
    "colab": {
     "base_uri": "https://localhost:8080/",
     "height": 1000
    },
    "id": "D0KqJ2zKOBpm",
    "outputId": "7f9c2152-813a-443f-d943-4757f712e3ce"
   },
   "outputs": [],
   "source": [
    "cvKFold=StratifiedKFold(n_splits=10, shuffle=True, random_state=0)\n",
    "\n",
    "# Create a KerasClassifier object which works with sklearn grid searches\n",
    "# We need to pass default values of arguments in build_mlp if we wish to tune them\n",
    "keras_classifier_cnn = KerasClassifier(build_cnn,\n",
    "                                   n_hidden_layers=2,\n",
    "                                   kernel_size=(3,3),\n",
    "                                   strides=(1,1),\n",
    "                                   loss=\"sparse_categorical_crossentropy\",\n",
    "                                   optimizer=\"sgd\",\n",
    "                                   optimizer__learning_rate=0.01,\n",
    "                                   metrics=[\"accuracy\"]\n",
    "                                  )\n",
    "param_grid = {\n",
    "    \"kernel_size\": [(3,3),(2,2)],\n",
    "    \"strides\":[(1,1),(2,2)],\n",
    "    \"optimizer__learning_rate\": [0.1, 0.01, 0.001],\n",
    "}\n",
    "\n",
    "grid_search_cnn = GridSearchCV(keras_classifier_cnn, param_grid, cv=cvKFold, verbose=2)\n",
    "grid_search_cnn.fit(X_train_norm, y_train, batch_size=128, epochs=20)"
   ]
  },
  {
   "cell_type": "code",
   "execution_count": null,
   "id": "EE-yZYjTOQcY",
   "metadata": {
    "colab": {
     "base_uri": "https://localhost:8080/"
    },
    "id": "EE-yZYjTOQcY",
    "outputId": "00b7df96-3f37-4f92-b9e1-6e576d1557e9"
   },
   "outputs": [],
   "source": [
    "# The best parameters results and cross-validation accuracy\n",
    "print(\"CNN best optimizer__learning_rate: {}\".format(grid_search_cnn.best_params_['optimizer__learning_rate']))\n",
    "print(\"CNN best kernel_size: {}\".format(grid_search_cnn.best_params_['kernel_size']))\n",
    "print(\"CNN best strides: {}\".format(grid_search_cnn.best_params_['strides']))\n",
    "print(\"CNN cross-validation accuracy: {:.4f}\".format(grid_search_cnn.best_score_))"
   ]
  },
  {
   "cell_type": "code",
   "execution_count": null,
   "id": "1aoWLcFgOR8Z",
   "metadata": {
    "colab": {
     "base_uri": "https://localhost:8080/",
     "height": 927
    },
    "id": "1aoWLcFgOR8Z",
    "outputId": "9a0000f0-59dd-4af3-8589-8c4bdcf05d11"
   },
   "outputs": [],
   "source": [
    "# Visualise the result of Hyperparameter tuning\n",
    "CNN_score = grid_search_cnn.cv_results_[\"mean_test_score\"].reshape(len(param_grid[\"kernel_size\"]),\n",
    "                                                                       len(param_grid[\"optimizer__learning_rate\"]), -1)\n",
    "for i in range(len(param_grid[\"kernel_size\"])):\n",
    "  plt.subplot(1, len(param_grid[\"kernel_size\"]), i+1)\n",
    "  plt.title(\"kernel_size=\"+str(param_grid[\"kernel_size\"][i]))\n",
    "  temp = CNN_score[i].T\n",
    "  for j in range(len(param_grid[\"strides\"])):\n",
    "   plt.plot(range(len(param_grid[\"optimizer__learning_rate\"])), temp[j], label ='strides='+ str(param_grid[\"strides\"][j]))\n",
    "  plt.xlabel(\"optimizer__learning_rate\")\n",
    "  plt.ylabel(\"Accuracy\")\n",
    "  plt.xticks(range(len(param_grid[\"optimizer__learning_rate\"])),param_grid[\"optimizer__learning_rate\"])\n",
    "  plt.legend()\n",
    "  plt.grid(True)\n",
    "  plt.show()"
   ]
  },
  {
   "cell_type": "markdown",
   "id": "042a0f71",
   "metadata": {
    "id": "042a0f71"
   },
   "source": [
    "## Model 3 - Algorithm Choice 1"
   ]
  },
  {
   "cell_type": "code",
   "execution_count": null,
   "id": "21C-LlbZOUsW",
   "metadata": {
    "id": "21C-LlbZOUsW"
   },
   "outputs": [],
   "source": [
    "# Hyperparameter tuning for Random Forest\n",
    "cvKFold=StratifiedKFold(n_splits=10, shuffle=True, random_state=0)\n",
    "\n",
    "def bestRFClassifier(X,y):\n",
    "    param_grid = {'n_estimators': [10, 30, 50, 100],\n",
    "              'max_leaf_nodes': [10, 16, 20, 30]}\n",
    "    grid_search = GridSearchCV(RandomForestClassifier(criterion='entropy',max_features = 'sqrt'), param_grid, cv=cvKFold,\n",
    "                          return_train_score=True)\n",
    "    grid_search.fit(X, y)\n",
    "\n",
    "    return grid_search\n",
    "\n",
    "param_grid = {'n_estimators': [10, 30, 50, 100],\n",
    "              'max_leaf_nodes': [10, 16, 20, 30]}\n",
    "\n",
    "# Train the RF model\n",
    "grid_search_RF = bestRFClassifier(X_train_RF,y_train)"
   ]
  },
  {
   "cell_type": "code",
   "execution_count": null,
   "id": "qEWD2L4fOj7U",
   "metadata": {
    "colab": {
     "base_uri": "https://localhost:8080/"
    },
    "id": "qEWD2L4fOj7U",
    "outputId": "e912776e-12b5-44b8-fd3b-4bc054c8f00a"
   },
   "outputs": [],
   "source": [
    "# The best parameters results and cross-validation accuracy\n",
    "print(\"RF best n_estimators: {}\".format(grid_search_RF.best_params_['n_estimators']))\n",
    "print(\"RF best max_leaf_nodes: {}\".format(grid_search_RF.best_params_['max_leaf_nodes']))\n",
    "print(\"RF cross-validation accuracy: {:.4f}\".format(grid_search_RF.best_score_))"
   ]
  },
  {
   "cell_type": "code",
   "execution_count": null,
   "id": "kZpD60CGOfR-",
   "metadata": {
    "colab": {
     "base_uri": "https://localhost:8080/",
     "height": 450
    },
    "id": "kZpD60CGOfR-",
    "outputId": "0e59aa3a-4513-49eb-cb2c-18ea003d9a96"
   },
   "outputs": [],
   "source": [
    "# Visualise the result of Hyperparameter tuning\n",
    "RF_score = grid_search_RF.cv_results_[\"mean_test_score\"].reshape(len(param_grid[\"max_leaf_nodes\"]),-1).T\n",
    "for i in range(len(param_grid[\"n_estimators\"])):\n",
    "  plt.plot(range(len(param_grid[\"max_leaf_nodes\"])), RF_score[i], label = param_grid[\"n_estimators\"][i])\n",
    "plt.xlabel(\"max_leaf_nodes\")\n",
    "plt.ylabel(\"Accuracy\")\n",
    "plt.xticks(range(len(param_grid[\"max_leaf_nodes\"])),param_grid[\"max_leaf_nodes\"])\n",
    "plt.legend()\n",
    "plt.grid(True)\n",
    "plt.show()"
   ]
  },
  {
   "cell_type": "markdown",
   "id": "afd85c65",
   "metadata": {
    "id": "afd85c65"
   },
   "source": [
    "## Model 4 - Algorithm Choice 2"
   ]
  },
  {
   "cell_type": "code",
   "execution_count": null,
   "id": "ST10A5-jOl12",
   "metadata": {
    "id": "ST10A5-jOl12"
   },
   "outputs": [],
   "source": [
    "# Linear SVM\n",
    "# You should use SVC from sklearn.svm\n",
    "C = [0.01, 0.1, 1, 10, 100]\n",
    "gamma = [0.01, 0.1, 1, 10, 100]\n",
    "def bestLinClassifier(X,y):\n",
    "    param_grid = {'C': [0.01, 0.1, 1, 10, 100],\n",
    "              'gamma': [0.01, 0.1, 1, 10, 100]}\n",
    "    grid_search = GridSearchCV(SVC(kernel = 'linear'), param_grid, cv=cvKFold,\n",
    "                          return_train_score=True)\n",
    "    grid_search.fit(X, y)\n",
    "    return grid_search #(appropriate values so that the required printing can be done)\n",
    "\n",
    "grid_search_SVM = bestLinClassifier(X_train_RF,y_train)\n",
    "\n",
    "print(\"SVM best C: {}\".format(grid_search_SVM.best_params_['C']))\n",
    "print(\"SVM best gamma: {}\".format(grid_search_SVM.best_params_['gamma']))\n",
    "print(\"SVM cross-validation accuracy: {:.4f}\".format(grid_search_SVM.best_score_))\n",
    "print(\"SVM test set accuracy: {:.4f}\".format(grid_search_SVM.score(X_test_RF, y_test)))"
   ]
  },
  {
   "cell_type": "markdown",
   "id": "3f82d673",
   "metadata": {
    "id": "3f82d673"
   },
   "source": [
    "# Final Models"
   ]
  },
  {
   "cell_type": "markdown",
   "id": "e4ef0732",
   "metadata": {
    "id": "e4ef0732"
   },
   "source": [
    "## Model 1 - Fully Connected Neural Network"
   ]
  },
  {
   "cell_type": "code",
   "execution_count": null,
   "id": "_a4dSQqKOrV_",
   "metadata": {
    "colab": {
     "base_uri": "https://localhost:8080/"
    },
    "id": "_a4dSQqKOrV_",
    "outputId": "7e89554b-c70b-4352-c32f-fa5a2f0d8778"
   },
   "outputs": [],
   "source": [
    "#Best Full connected neural network model with optimizer__lr: 0.01, activation_function: relu\n",
    "best_mlp_model = keras.models.Sequential([\n",
    "    keras.layers.Flatten(input_shape=(28,28)),\n",
    "    keras.layers.Dense(50, activation=\"relu\"),\n",
    "    keras.layers.Dense(50, activation=\"relu\"),\n",
    "    keras.layers.Dense(8, activation=\"softmax\")\n",
    "])\n",
    "\n",
    "# Compile model with MSE loss\n",
    "opt = keras.optimizers.SGD(learning_rate=0.01)\n",
    "best_mlp_model.compile(loss='sparse_categorical_crossentropy',\n",
    "              optimizer=opt,\n",
    "              metrics=['accuracy'])\n",
    "\n",
    "best_mlp_model.fit(X_train_3d, y_train, epochs = 100)\n",
    "loss, accuracy = best_mlp_model.evaluate(X_test_3d, y_test)\n",
    "print(\"MLP test set accuracy: {:.4f}\".format(accuracy))"
   ]
  },
  {
   "cell_type": "markdown",
   "id": "1fc20752",
   "metadata": {
    "id": "1fc20752"
   },
   "source": [
    "## Model 2 - Convolutional Neural Network"
   ]
  },
  {
   "cell_type": "code",
   "execution_count": null,
   "id": "0A6qimptOtnz",
   "metadata": {
    "colab": {
     "base_uri": "https://localhost:8080/"
    },
    "id": "0A6qimptOtnz",
    "outputId": "de7e9b82-bbea-4620-d347-e22a8300e899"
   },
   "outputs": [],
   "source": [
    "#Best CNN model with optimizer__lr: 0.1, kernel_size: (3, 3), strides: (2, 2)\n",
    "best_cnn_model = keras.Sequential([\n",
    "    keras.Input(shape=(28,28,1)),\n",
    "    keras.layers.Conv2D(32, kernel_size= (3, 3),strides = (2, 2), activation = \"relu\"),\n",
    "    keras.layers.MaxPooling2D(pool_size=(2, 2)),\n",
    "    keras.layers.Conv2D(64, kernel_size= (3, 3),strides = (2, 2), activation = \"relu\"),\n",
    "    keras.layers.MaxPooling2D(pool_size=(2, 2)),\n",
    "\n",
    "    # Flatten and classify using dense output layer\n",
    "    keras.layers.Flatten(),\n",
    "    keras.layers.Dropout(0.5),\n",
    "    keras.layers.Dense(8, activation=\"softmax\"),\n",
    "])\n",
    "\n",
    "# Compile model with MSE loss\n",
    "opt = keras.optimizers.SGD(learning_rate=0.1)\n",
    "best_cnn_model.compile(loss='sparse_categorical_crossentropy',\n",
    "                       optimizer=opt,\n",
    "                       metrics=['accuracy'])\n",
    "\n",
    "best_cnn_model.fit(X_train_3d, y_train, epochs = 100)\n",
    "loss, accuracy = best_cnn_model.evaluate(X_test_3d, y_test)\n",
    "print(\"CNN test set accuracy: {:.4f}\".format(accuracy))"
   ]
  },
  {
   "cell_type": "markdown",
   "id": "52443c0f",
   "metadata": {
    "id": "52443c0f"
   },
   "source": [
    "## Model 3 - Algorithm Choice 1"
   ]
  },
  {
   "cell_type": "code",
   "execution_count": null,
   "id": "tVeBRFbHOqS9",
   "metadata": {
    "id": "tVeBRFbHOqS9"
   },
   "outputs": [],
   "source": [
    "#Best Random Forestc model with n_estimators = 100, max_leaf_nodes = 30\n",
    "best_RF = RandomForestClassifier(criterion='entropy', n_estimators=100, max_leaf_nodes=30, random_state=0)\n",
    "best_RF.fit(X_train_2d, y_train)\n",
    "print(\"RF test set accuracy: {:.4f}\".format(best_RF.score(X_test_2d, y_test)))"
   ]
  },
  {
   "cell_type": "markdown",
   "id": "7462d3ea",
   "metadata": {
    "id": "7462d3ea"
   },
   "source": [
    "## Model 4 - Algorithm Choice 2"
   ]
  },
  {
   "cell_type": "code",
   "execution_count": null,
   "id": "cO8vGO7acO6A",
   "metadata": {
    "id": "cO8vGO7acO6A"
   },
   "outputs": [],
   "source": []
  }
 ],
 "metadata": {
  "accelerator": "GPU",
  "colab": {
   "gpuType": "T4",
   "machine_shape": "hm",
   "provenance": [],
   "toc_visible": true
  },
  "kernelspec": {
   "display_name": "Python 3 (ipykernel)",
   "language": "python",
   "name": "python3"
  },
  "language_info": {
   "codemirror_mode": {
    "name": "ipython",
    "version": 3
   },
   "file_extension": ".py",
   "mimetype": "text/x-python",
   "name": "python",
   "nbconvert_exporter": "python",
   "pygments_lexer": "ipython3",
   "version": "3.11.5"
  }
 },
 "nbformat": 4,
 "nbformat_minor": 5
}
